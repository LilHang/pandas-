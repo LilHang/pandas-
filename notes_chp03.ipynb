{
 "cells": [
  {
   "cell_type": "markdown",
   "metadata": {},
   "source": [
    "### ~操作符用于翻转布尔型np.array值"
   ]
  },
  {
   "cell_type": "code",
   "execution_count": 1,
   "metadata": {},
   "outputs": [
    {
     "data": {
      "text/plain": [
       "array([False,  True])"
      ]
     },
     "execution_count": 1,
     "metadata": {},
     "output_type": "execute_result"
    }
   ],
   "source": [
    "import numpy as np\n",
    "a = np.array([True, False])\n",
    "~a #翻转"
   ]
  },
  {
   "cell_type": "markdown",
   "metadata": {},
   "source": [
    "### 花式索引（Fancy indexing）\n",
    "#### 指的是利用整数数组进行索引"
   ]
  },
  {
   "cell_type": "code",
   "execution_count": 2,
   "metadata": {},
   "outputs": [
    {
     "data": {
      "text/plain": [
       "array([[ 0,  1,  2,  3],\n",
       "       [ 4,  5,  6,  7],\n",
       "       [ 8,  9, 10, 11],\n",
       "       [12, 13, 14, 15],\n",
       "       [16, 17, 18, 19],\n",
       "       [20, 21, 22, 23],\n",
       "       [24, 25, 26, 27],\n",
       "       [28, 29, 30, 31]])"
      ]
     },
     "execution_count": 2,
     "metadata": {},
     "output_type": "execute_result"
    }
   ],
   "source": [
    "arr = np.arange(32).reshape((8,4))\n",
    "arr"
   ]
  },
  {
   "cell_type": "code",
   "execution_count": 12,
   "metadata": {},
   "outputs": [
    {
     "data": {
      "text/plain": [
       "array([[ 0,  1,  2,  3],\n",
       "       [ 8,  9, 10, 11],\n",
       "       [16, 17, 18, 19]])"
      ]
     },
     "execution_count": 12,
     "metadata": {},
     "output_type": "execute_result"
    }
   ],
   "source": [
    "arr[[0,2,4]] # 选取第1,3,5行\n",
    "# arr[[1,3],[2,3]）  选取第2行第4个 及 第4行第4个"
   ]
  },
  {
   "cell_type": "markdown",
   "metadata": {},
   "source": [
    "#### 数组花式索引 产生的是一个副本，而数组切片是原始数组的视图。这意味着数据不会被复制，视图上的任何修改都会直接反映到源数组上"
   ]
  },
  {
   "cell_type": "code",
   "execution_count": 13,
   "metadata": {},
   "outputs": [
    {
     "data": {
      "text/plain": [
       "array([[3, 4],\n",
       "       [1, 2]])"
      ]
     },
     "execution_count": 13,
     "metadata": {},
     "output_type": "execute_result"
    }
   ],
   "source": [
    "'''\n",
    "当交换一个数组的行列时应特别注意\n",
    "'''\n",
    "b = np.array([[1, 2], [3, 4]])\n",
    "b[[0,1], :] = b[[1,0], :]  # 花式索引产生的副本，b[0,:],b[1,:] = b[1,:],b[0,:]并没交换两行，可以用copy获取切片的副本以交换，改写为\n",
    "                          # b[0,:],b[1,:] = b[1,:].copy(),b[0,:].copy()\n",
    "b"
   ]
  },
  {
   "cell_type": "markdown",
   "metadata": {},
   "source": [
    "### 数组转置和轴对换"
   ]
  },
  {
   "cell_type": "markdown",
   "metadata": {},
   "source": [
    "#### 实际上是对索引轴的转换"
   ]
  },
  {
   "cell_type": "code",
   "execution_count": 22,
   "metadata": {},
   "outputs": [
    {
     "data": {
      "text/plain": [
       "array([[ 0,  1,  2,  3,  4],\n",
       "       [ 5,  6,  7,  8,  9],\n",
       "       [10, 11, 12, 13, 14]])"
      ]
     },
     "execution_count": 22,
     "metadata": {},
     "output_type": "execute_result"
    }
   ],
   "source": [
    "arr = np.arange(15).reshape((3, 5)) # \n",
    "arr"
   ]
  },
  {
   "cell_type": "code",
   "execution_count": 23,
   "metadata": {},
   "outputs": [
    {
     "data": {
      "text/plain": [
       "array([[ 0,  5, 10],\n",
       "       [ 1,  6, 11],\n",
       "       [ 2,  7, 12],\n",
       "       [ 3,  8, 13],\n",
       "       [ 4,  9, 14]])"
      ]
     },
     "execution_count": 23,
     "metadata": {},
     "output_type": "execute_result"
    }
   ],
   "source": [
    "arr.T # 二维数组转置   "
   ]
  },
  {
   "cell_type": "code",
   "execution_count": 17,
   "metadata": {},
   "outputs": [
    {
     "data": {
      "text/plain": [
       "array([[ 0,  5, 10],\n",
       "       [ 1,  6, 11],\n",
       "       [ 2,  7, 12],\n",
       "       [ 3,  8, 13],\n",
       "       [ 4,  9, 14]])"
      ]
     },
     "execution_count": 17,
     "metadata": {},
     "output_type": "execute_result"
    }
   ],
   "source": [
    "arr.transpose((1,0))  # 0,1 轴 变为 1,0 轴  "
   ]
  },
  {
   "cell_type": "code",
   "execution_count": 18,
   "metadata": {},
   "outputs": [
    {
     "data": {
      "text/plain": [
       "array([[ 0,  5, 10],\n",
       "       [ 1,  6, 11],\n",
       "       [ 2,  7, 12],\n",
       "       [ 3,  8, 13],\n",
       "       [ 4,  9, 14]])"
      ]
     },
     "execution_count": 18,
     "metadata": {},
     "output_type": "execute_result"
    }
   ],
   "source": [
    "arr.swapaxes(0,1) # 轴对换"
   ]
  },
  {
   "cell_type": "markdown",
   "metadata": {},
   "source": [
    "### 通用函数"
   ]
  },
  {
   "cell_type": "markdown",
   "metadata": {},
   "source": [
    "#### 通用函数（即ufunc）是一种对ndarray中的数据执行元素级运算的函数\n",
    "#### 一元（unary）ufunc。另外一些（如add或maximum）接受2个数组（因此也叫二元（binary）ufunc）"
   ]
  },
  {
   "cell_type": "code",
   "execution_count": 24,
   "metadata": {},
   "outputs": [
    {
     "data": {
      "text/plain": [
       "array([0.        , 1.        , 1.41421356, 1.73205081, 2.        ,\n",
       "       2.23606798, 2.44948974, 2.64575131, 2.82842712, 3.        ])"
      ]
     },
     "execution_count": 24,
     "metadata": {},
     "output_type": "execute_result"
    }
   ],
   "source": [
    "arr = np.arange(10)\n",
    "np.sqrt(arr)"
   ]
  },
  {
   "cell_type": "code",
   "execution_count": 25,
   "metadata": {},
   "outputs": [
    {
     "data": {
      "text/plain": [
       "array([-0.71585195,  1.03128659,  0.40059554,  0.22090915, -0.09458734,\n",
       "       -0.19728837,  1.31212807, -1.09930368])"
      ]
     },
     "execution_count": 25,
     "metadata": {},
     "output_type": "execute_result"
    }
   ],
   "source": [
    "x = np.random.randn(8)\n",
    "y = np.random.randn(8)\n",
    "np.maximum(x, y)  # 返回x，y中元素级别的最大值"
   ]
  },
  {
   "cell_type": "code",
   "execution_count": 27,
   "metadata": {},
   "outputs": [
    {
     "name": "stdout",
     "output_type": "stream",
     "text": [
      "[-0.24911686 -0.68971311 -0.14404831  0.48114124  0.87589969] [-4. -4. -8.  3.  0.]\n"
     ]
    }
   ],
   "source": [
    "c = np.random.randn(5)*6\n",
    "whole, remainder = np.modf(c) 返回浮点数的整数部分和小数部分\n",
    "print(whole, remainder)"
   ]
  },
  {
   "cell_type": "markdown",
   "metadata": {},
   "source": [
    "### np.meshgid 生成网格点坐标矩阵"
   ]
  },
  {
   "cell_type": "code",
   "execution_count": 29,
   "metadata": {},
   "outputs": [
    {
     "data": {
      "image/png": "[encoded data removed]",
      "text/plain": [
       "<Figure size 432x288 with 1 Axes>"
      ]
     },
     "metadata": {},
     "output_type": "display_data"
    }
   ],
   "source": [
    "%matplotlib inline\n",
    "import matplotlib.pyplot as plt\n",
    "\n",
    "x = np.array([0, 1, 2]) # x坐标\n",
    "y = np.array([0, 1])    # y坐标\n",
    "\n",
    "X, Y = np.meshgrid(x, y) #网格化\n",
    "plt.plot(X, Y,\n",
    "         color='red',  # 全部点设置为红色\n",
    "         marker='.',  # 点的形状为圆点\n",
    "         linestyle='')  # 线型为空，也即点与点之间不用线连接\n",
    "plt.grid(True)\n",
    "plt.show()"
   ]
  },
  {
   "cell_type": "markdown",
   "metadata": {},
   "source": [
    "### numpy.where函数是三元表达式x if condition else y的矢量化版本"
   ]
  },
  {
   "cell_type": "code",
   "execution_count": 30,
   "metadata": {},
   "outputs": [
    {
     "data": {
      "text/plain": [
       "array([[ 0.52175509, -1.4407146 , -0.05167745, -0.91502259],\n",
       "       [ 0.33120415,  0.39364732,  0.84661282,  1.27077231],\n",
       "       [-0.2269742 , -0.11443896, -0.67617061,  0.45241485],\n",
       "       [-0.19185769, -0.42556739, -0.42136221, -1.90355461]])"
      ]
     },
     "execution_count": 30,
     "metadata": {},
     "output_type": "execute_result"
    }
   ],
   "source": [
    "arr = np.random.randn(4, 4)\n",
    "arr"
   ]
  },
  {
   "cell_type": "code",
   "execution_count": 31,
   "metadata": {},
   "outputs": [
    {
     "data": {
      "text/plain": [
       "array([[-2,  2,  2,  2],\n",
       "       [-2, -2, -2, -2],\n",
       "       [ 2,  2,  2, -2],\n",
       "       [ 2,  2,  2,  2]])"
      ]
     },
     "execution_count": 31,
     "metadata": {},
     "output_type": "execute_result"
    }
   ],
   "source": [
    "np.where(arr < 0, 2, -2) # 小于0替换为2，大于0替换为-2"
   ]
  },
  {
   "cell_type": "code",
   "execution_count": 33,
   "metadata": {},
   "outputs": [
    {
     "data": {
      "text/plain": [
       "array([[ 2.        , -1.4407146 , -0.05167745, -0.91502259],\n",
       "       [ 2.        ,  2.        ,  2.        ,  2.        ],\n",
       "       [-0.2269742 , -0.11443896, -0.67617061,  2.        ],\n",
       "       [-0.19185769, -0.42556739, -0.42136221, -1.90355461]])"
      ]
     },
     "execution_count": 33,
     "metadata": {},
     "output_type": "execute_result"
    }
   ],
   "source": [
    "np.where(arr > 0, 2, arr) # 大于0替换2，小于0不替换"
   ]
  },
  {
   "cell_type": "markdown",
   "metadata": {},
   "source": [
    "### 数组的数学和统计方法"
   ]
  },
  {
   "cell_type": "markdown",
   "metadata": {},
   "source": [
    "#### 可以通过数组上的一组数学函数对整个数组或某个轴向的数据进行统计计算，sum、mean以及标准差std等聚合计算（aggregation）既可以当做数组的实例方法调用，也可以当做NumPy函数使用"
   ]
  },
  {
   "cell_type": "code",
   "execution_count": 34,
   "metadata": {},
   "outputs": [
    {
     "data": {
      "text/plain": [
       "array([[-1.258622  , -0.8745204 , -0.56348585,  1.09906635],\n",
       "       [ 1.40985081,  1.44442806, -0.64800491, -0.78089683],\n",
       "       [-0.03380354,  1.48530589, -0.13487838,  1.11553453],\n",
       "       [-1.50175246,  0.45166913, -0.33702175,  1.63491408],\n",
       "       [ 0.68359795, -0.65245412,  0.8010182 ,  0.11112217]])"
      ]
     },
     "execution_count": 34,
     "metadata": {},
     "output_type": "execute_result"
    }
   ],
   "source": [
    "arr = np.random.randn(5, 4)\n",
    "arr"
   ]
  },
  {
   "cell_type": "code",
   "execution_count": 35,
   "metadata": {},
   "outputs": [
    {
     "data": {
      "text/plain": [
       "3.4510669255396857"
      ]
     },
     "execution_count": 35,
     "metadata": {},
     "output_type": "execute_result"
    }
   ],
   "source": [
    "arr.sum() # 等同于 np.sum(arr)\n",
    "np.mean(arr,axis=0) # 返回各列的均值\n",
    "np.cumsum() # 累计和\n",
    "np.cumprod()\n",
    "np.std() # 自由度可调，默认为n\n",
    "np.var()# 自由度可调，默认为n\n",
    "np.max()  np.argmax()\n",
    "np.min() np.argmin()"
   ]
  },
  {
   "cell_type": "markdown",
   "metadata": {},
   "source": [
    "### 计算数组分位数最简单的办法是对其进行排序，然后选取特定位置的值"
   ]
  },
  {
   "cell_type": "code",
   "execution_count": 36,
   "metadata": {},
   "outputs": [
    {
     "data": {
      "text/plain": [
       "-1.625619716934896"
      ]
     },
     "execution_count": 36,
     "metadata": {},
     "output_type": "execute_result"
    }
   ],
   "source": [
    "arr = np.random.randn(1000)\n",
    "arr.sort()\n",
    "q = arr[int(0.05*len(arr))] # 计算5%分位数\n",
    "q"
   ]
  },
  {
   "cell_type": "markdown",
   "metadata": {},
   "source": [
    "### 唯一化以及其它的集合逻辑"
   ]
  },
  {
   "cell_type": "code",
   "execution_count": 37,
   "metadata": {},
   "outputs": [
    {
     "data": {
      "text/plain": [
       "array(['Bob', 'Joe', 'Will'], dtype='<U4')"
      ]
     },
     "execution_count": 37,
     "metadata": {},
     "output_type": "execute_result"
    }
   ],
   "source": [
    "names = np.array(['Bob', 'Joe', 'Will', 'Bob', 'Will', 'Joe', 'Joe'])\n",
    "np.unique(names) # 找出数组中的唯一值并返回已排序的结果\n",
    "\n",
    "np.intersect1d(x ,y) # 计算交集并返回有序结果\n",
    "np.union(x, y)  # 计算并集并返回有序结果\n",
    "np.in1d(x,y)   # 得到一个 x的元素是否包含于y 的布尔型数组\n",
    "setdiff1d(x,y) # 得到差集"
   ]
  },
  {
   "cell_type": "markdown",
   "metadata": {},
   "source": [
    "### 线性代数"
   ]
  },
  {
   "cell_type": "code",
   "execution_count": 39,
   "metadata": {},
   "outputs": [
    {
     "data": {
      "text/plain": [
       "array([[ 28.,  64.],\n",
       "       [ 67., 181.]])"
      ]
     },
     "execution_count": 39,
     "metadata": {},
     "output_type": "execute_result"
    }
   ],
   "source": [
    "x = np.array([[1., 2., 3.], [4., 5., 6.]])\n",
    "y = np.array([[6., 23.], [-1, 7], [8, 9]])\n",
    "np.dot(x, y)  # 矩阵乘法的3种表示\n",
    "x.dot(y)\n",
    "x @ y"
   ]
  },
  {
   "cell_type": "code",
   "execution_count": 43,
   "metadata": {},
   "outputs": [
    {
     "name": "stdout",
     "output_type": "stream",
     "text": [
      "[[ 28.7410087   15.98734362 133.49109943   3.60863993  37.38564002]\n",
      " [ 15.98734362   9.37454616  75.87931384   1.84215315  20.80203852]\n",
      " [133.49109943  75.87931384 629.0450739   16.14634916 174.34347091]\n",
      " [  3.60863993   1.84215315  16.14634916   0.62922364   4.8554944 ]\n",
      " [ 37.38564002  20.80203852 174.34347091   4.8554944   49.56928244]] \n",
      "\n",
      " [[ 1.00000000e+00 -3.29312361e-15  2.40366254e-15  1.20441539e-14\n",
      "  -9.59820636e-15]\n",
      " [-8.20985494e-15  1.00000000e+00  7.42423525e-15  2.33512144e-14\n",
      "  -1.02939556e-14]\n",
      " [-4.97316433e-14 -6.76275729e-14  1.00000000e+00  6.75595607e-14\n",
      "  -2.09463168e-14]\n",
      " [ 9.92020088e-16 -1.12417345e-15 -4.78829660e-16  1.00000000e+00\n",
      "   4.40787540e-16]\n",
      " [-1.22558267e-14  8.42160538e-15 -2.07855160e-15 -8.75566575e-15\n",
      "   1.00000000e+00]]\n"
     ]
    }
   ],
   "source": [
    "from numpy.linalg import inv  # etc\n",
    "X = np.random.randn(5, 5) # 指定数组形状无需tuple\n",
    "mat = X.T.dot(X)\n",
    "print(inv(mat),'\\n'*2, np.dot(inv(mat), mat))\n",
    "\n",
    "diag  # 以一维数组的形式返回方阵的对角线（或非对角线）元素;或将一维数组转换为方阵（对角为0）\n",
    "trace # 计算对角线元素的和\n",
    "det   # 计算矩阵行列式\n",
    "eig   # 计算方阵的本征值和本证向量\n",
    "pinv  # 计算矩阵的Moore-Penrose伪逆\n",
    "qr    # 计算QR分解\n",
    "svd   # 计算奇异值分解（SVD）\n",
    "solve # 解线性方程组\n",
    "lstsq # 计算Ax = b 的最小二乘解"
   ]
  },
  {
   "cell_type": "code",
   "execution_count": null,
   "metadata": {},
   "outputs": [],
   "source": []
  }
 ],
 "metadata": {
  "kernelspec": {
   "display_name": "Python 3",
   "language": "python",
   "name": "python3"
  },
  "language_info": {
   "codemirror_mode": {
    "name": "ipython",
    "version": 3
   },
   "file_extension": ".py",
   "mimetype": "text/x-python",
   "name": "python",
   "nbconvert_exporter": "python",
   "pygments_lexer": "ipython3",
   "version": "3.6.6"
  }
 },
 "nbformat": 4,
 "nbformat_minor": 2
}
